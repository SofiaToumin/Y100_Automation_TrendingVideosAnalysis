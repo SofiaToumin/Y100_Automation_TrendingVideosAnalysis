{
 "cells": [
  {
   "cell_type": "code",
   "execution_count": 5,
   "metadata": {},
   "outputs": [
    {
     "name": "stdout",
     "output_type": "stream",
     "text": [
      "Collecting psycopg2-binary\n",
      "  Downloading psycopg2_binary-2.8.6-cp37-cp37m-win_amd64.whl (1.1 MB)\n",
      "Installing collected packages: psycopg2-binary\n",
      "Successfully installed psycopg2-binary-2.8.6\n"
     ]
    }
   ],
   "source": [
    "#installation might be needed, at least for me it was relevant\n",
    "\n",
    "#!pip install psycopg2-binary "
   ]
  },
  {
   "cell_type": "code",
   "execution_count": 1,
   "metadata": {},
   "outputs": [],
   "source": [
    "#importing libraries\n",
    "import pandas as pd\n",
    "from sqlalchemy import create_engine"
   ]
  },
  {
   "cell_type": "code",
   "execution_count": 2,
   "metadata": {},
   "outputs": [],
   "source": [
    "#creating database configuration parameters\n",
    "db_config = {'user': '*****',         # user name\n",
    "             'pwd': '*****', # password\n",
    "             'host': '*****',\n",
    "             'port': *****,              # connection port\n",
    "             'db': '*****'}          # the name of the database"
   ]
  },
  {
   "cell_type": "code",
   "execution_count": 3,
   "metadata": {},
   "outputs": [],
   "source": [
    "#creating connection string\n",
    "connection_string = 'postgresql://{}:{}@{}:{}/{}'.format(db_config['user'], db_config['pwd'], db_config['host'], db_config['port'], db_config['db'])"
   ]
  },
  {
   "cell_type": "code",
   "execution_count": 6,
   "metadata": {},
   "outputs": [],
   "source": [
    "#connecting to the database\n",
    "engine = create_engine(connection_string)"
   ]
  },
  {
   "cell_type": "code",
   "execution_count": 7,
   "metadata": {},
   "outputs": [],
   "source": [
    "#creating query for extracting data\n",
    "query = ''' SELECT * FROM trending_by_time '''"
   ]
  },
  {
   "cell_type": "code",
   "execution_count": 20,
   "metadata": {},
   "outputs": [],
   "source": [
    "#extracting the data\n",
    "trending_by_time = pd.io.sql.read_sql(query, con = engine) "
   ]
  },
  {
   "cell_type": "code",
   "execution_count": 21,
   "metadata": {},
   "outputs": [],
   "source": [
    "#saving a csv file on a local computer\n",
    "trending_by_time.to_csv('trending_by_time.csv', index = False)"
   ]
  },
  {
   "cell_type": "code",
   "execution_count": 23,
   "metadata": {},
   "outputs": [
    {
     "name": "stdout",
     "output_type": "stream",
     "text": [
      "<class 'pandas.core.frame.DataFrame'>\n",
      "RangeIndex: 12343 entries, 0 to 12342\n",
      "Data columns (total 5 columns):\n",
      " #   Column          Non-Null Count  Dtype         \n",
      "---  ------          --------------  -----         \n",
      " 0   record_id       12343 non-null  int64         \n",
      " 1   region          12343 non-null  object        \n",
      " 2   trending_date   12343 non-null  datetime64[ns]\n",
      " 3   category_title  12343 non-null  object        \n",
      " 4   videos_count    12343 non-null  int64         \n",
      "dtypes: datetime64[ns](1), int64(2), object(2)\n",
      "memory usage: 482.3+ KB\n"
     ]
    }
   ],
   "source": [
    "trending_by_time.info()"
   ]
  },
  {
   "cell_type": "code",
   "execution_count": 22,
   "metadata": {},
   "outputs": [
    {
     "data": {
      "text/html": [
       "<div>\n",
       "<style scoped>\n",
       "    .dataframe tbody tr th:only-of-type {\n",
       "        vertical-align: middle;\n",
       "    }\n",
       "\n",
       "    .dataframe tbody tr th {\n",
       "        vertical-align: top;\n",
       "    }\n",
       "\n",
       "    .dataframe thead th {\n",
       "        text-align: right;\n",
       "    }\n",
       "</style>\n",
       "<table border=\"1\" class=\"dataframe\">\n",
       "  <thead>\n",
       "    <tr style=\"text-align: right;\">\n",
       "      <th></th>\n",
       "      <th>record_id</th>\n",
       "      <th>region</th>\n",
       "      <th>trending_date</th>\n",
       "      <th>category_title</th>\n",
       "      <th>videos_count</th>\n",
       "    </tr>\n",
       "  </thead>\n",
       "  <tbody>\n",
       "    <tr>\n",
       "      <th>10781</th>\n",
       "      <td>10782</td>\n",
       "      <td>United States</td>\n",
       "      <td>2018-04-23</td>\n",
       "      <td>Howto &amp; Style</td>\n",
       "      <td>50</td>\n",
       "    </tr>\n",
       "    <tr>\n",
       "      <th>8160</th>\n",
       "      <td>8161</td>\n",
       "      <td>Russia</td>\n",
       "      <td>2018-05-25</td>\n",
       "      <td>Music</td>\n",
       "      <td>30</td>\n",
       "    </tr>\n",
       "    <tr>\n",
       "      <th>3969</th>\n",
       "      <td>3970</td>\n",
       "      <td>India</td>\n",
       "      <td>2018-01-17</td>\n",
       "      <td>Music</td>\n",
       "      <td>50</td>\n",
       "    </tr>\n",
       "    <tr>\n",
       "      <th>5604</th>\n",
       "      <td>5605</td>\n",
       "      <td>Japan</td>\n",
       "      <td>2018-03-12</td>\n",
       "      <td>Gaming</td>\n",
       "      <td>20</td>\n",
       "    </tr>\n",
       "    <tr>\n",
       "      <th>7017</th>\n",
       "      <td>7018</td>\n",
       "      <td>Russia</td>\n",
       "      <td>2018-01-07</td>\n",
       "      <td>Education</td>\n",
       "      <td>16</td>\n",
       "    </tr>\n",
       "    <tr>\n",
       "      <th>10227</th>\n",
       "      <td>10228</td>\n",
       "      <td>United States</td>\n",
       "      <td>2018-06-09</td>\n",
       "      <td>Entertainment</td>\n",
       "      <td>102</td>\n",
       "    </tr>\n",
       "    <tr>\n",
       "      <th>8351</th>\n",
       "      <td>8352</td>\n",
       "      <td>Russia</td>\n",
       "      <td>2018-05-11</td>\n",
       "      <td>News &amp; Politics</td>\n",
       "      <td>62</td>\n",
       "    </tr>\n",
       "    <tr>\n",
       "      <th>10307</th>\n",
       "      <td>10308</td>\n",
       "      <td>United States</td>\n",
       "      <td>2018-01-29</td>\n",
       "      <td>Film &amp; Animation</td>\n",
       "      <td>20</td>\n",
       "    </tr>\n",
       "    <tr>\n",
       "      <th>6235</th>\n",
       "      <td>6236</td>\n",
       "      <td>Japan</td>\n",
       "      <td>2018-04-20</td>\n",
       "      <td>Pets &amp; Animals</td>\n",
       "      <td>28</td>\n",
       "    </tr>\n",
       "    <tr>\n",
       "      <th>3152</th>\n",
       "      <td>3153</td>\n",
       "      <td>India</td>\n",
       "      <td>2018-03-18</td>\n",
       "      <td>Education</td>\n",
       "      <td>10</td>\n",
       "    </tr>\n",
       "  </tbody>\n",
       "</table>\n",
       "</div>"
      ],
      "text/plain": [
       "       record_id         region trending_date    category_title  videos_count\n",
       "10781      10782  United States    2018-04-23     Howto & Style            50\n",
       "8160        8161         Russia    2018-05-25             Music            30\n",
       "3969        3970          India    2018-01-17             Music            50\n",
       "5604        5605          Japan    2018-03-12            Gaming            20\n",
       "7017        7018         Russia    2018-01-07         Education            16\n",
       "10227      10228  United States    2018-06-09     Entertainment           102\n",
       "8351        8352         Russia    2018-05-11   News & Politics            62\n",
       "10307      10308  United States    2018-01-29  Film & Animation            20\n",
       "6235        6236          Japan    2018-04-20    Pets & Animals            28\n",
       "3152        3153          India    2018-03-18         Education            10"
      ]
     },
     "execution_count": 22,
     "metadata": {},
     "output_type": "execute_result"
    }
   ],
   "source": [
    "trending_by_time.sample(10)"
   ]
  }
 ],
 "metadata": {
  "kernelspec": {
   "display_name": "Python 3",
   "language": "python",
   "name": "python3"
  },
  "language_info": {
   "codemirror_mode": {
    "name": "ipython",
    "version": 3
   },
   "file_extension": ".py",
   "mimetype": "text/x-python",
   "name": "python",
   "nbconvert_exporter": "python",
   "pygments_lexer": "ipython3",
   "version": "3.7.6"
  }
 },
 "nbformat": 4,
 "nbformat_minor": 4
}
